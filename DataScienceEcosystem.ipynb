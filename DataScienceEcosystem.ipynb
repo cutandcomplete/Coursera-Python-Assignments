{
 "cells": [
  {
   "cell_type": "markdown",
   "id": "616da138-b57a-4995-afca-5efda7a853b5",
   "metadata": {},
   "source": [
    "# Data Science Tools and Ecosystem"
   ]
  },
  {
   "cell_type": "markdown",
   "id": "90664a5b-7430-4c1f-b17d-4dc4fb8581a4",
   "metadata": {},
   "source": [
    "In this notebook, Data Science Tools and Ecosystem are summarized."
   ]
  },
  {
   "cell_type": "markdown",
   "id": "d9ea0500-3b96-4e93-baa5-1c134bf983df",
   "metadata": {},
   "source": [
    "Objectives:\n",
    " - List popular languages for Data Science.\n",
    " - List popular libraries for Data Science.\n",
    " - List popular tools for Data Science."
   ]
  },
  {
   "cell_type": "markdown",
   "id": "d45209cb-e0c9-423d-8afe-420991239649",
   "metadata": {},
   "source": [
    "Some of the popular languages that Data Scientists use are:\n",
    "1. Python\n",
    "2. TensorFlow\n",
    "3. SQL\n"
   ]
  },
  {
   "cell_type": "markdown",
   "id": "3fa3a64f-5248-470c-af41-d420e27c1ff4",
   "metadata": {},
   "source": [
    "Some of the commonly used libraries used by Data Scientists include:\n",
    "1. Pandas\n",
    "2. Numpy\n",
    "3. SciPy"
   ]
  },
  {
   "cell_type": "markdown",
   "id": "81399074-bef7-4963-9de9-006a71942957",
   "metadata": {},
   "source": [
    "| Data Science Tools |\n",
    "|--------------------|\n",
    "| Jupyter Lab |\n",
    "| Apache Spark |\n",
    "| Keras |\n"
   ]
  },
  {
   "cell_type": "markdown",
   "id": "77cde6ea-4292-403b-beab-b1991d1175e1",
   "metadata": {},
   "source": [
    "### Below are a few examples of evaluating arithmetic expressions in Python"
   ]
  },
  {
   "cell_type": "code",
   "execution_count": 5,
   "id": "72024d53-4087-4dfd-b282-ec0e4ab434ce",
   "metadata": {},
   "outputs": [
    {
     "data": {
      "text/plain": [
       "17"
      ]
     },
     "execution_count": 5,
     "metadata": {},
     "output_type": "execute_result"
    }
   ],
   "source": [
    "#This a simple arithmetic expression to mutiply then add integers.\n",
    "(3*4)+5"
   ]
  },
  {
   "cell_type": "code",
   "execution_count": 6,
   "id": "1a11780e-a470-488f-8fb4-3f0059a9053f",
   "metadata": {},
   "outputs": [
    {
     "data": {
      "text/plain": [
       "3.3333333333333335"
      ]
     },
     "execution_count": 6,
     "metadata": {},
     "output_type": "execute_result"
    }
   ],
   "source": [
    "#This will convert 200 minutes to hours by dividing by 60.\n",
    "200/60"
   ]
  },
  {
   "cell_type": "markdown",
   "id": "6a4ae086-b9a4-4f31-9787-e6ee1ddfd38f",
   "metadata": {},
   "source": [
    "## Author\n",
    "Dallas Robbins\n"
   ]
  },
  {
   "cell_type": "code",
   "execution_count": null,
   "id": "2c481b8a-8300-4be6-996f-2a991e691fa8",
   "metadata": {},
   "outputs": [],
   "source": []
  }
 ],
 "metadata": {
  "kernelspec": {
   "display_name": "Python 3 (ipykernel)",
   "language": "python",
   "name": "python3"
  },
  "language_info": {
   "codemirror_mode": {
    "name": "ipython",
    "version": 3
   },
   "file_extension": ".py",
   "mimetype": "text/x-python",
   "name": "python",
   "nbconvert_exporter": "python",
   "pygments_lexer": "ipython3",
   "version": "3.9.12"
  }
 },
 "nbformat": 4,
 "nbformat_minor": 5
}
